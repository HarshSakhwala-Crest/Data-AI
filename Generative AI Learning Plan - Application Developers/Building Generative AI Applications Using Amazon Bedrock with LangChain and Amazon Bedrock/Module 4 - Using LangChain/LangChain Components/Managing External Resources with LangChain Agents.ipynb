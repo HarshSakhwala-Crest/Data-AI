{
 "cells": [
  {
   "cell_type": "markdown",
   "metadata": {},
   "source": [
    "# Managing External Resources with LangChain Agents\n",
    "- **LLMs** are powerful but struggle with **rule-based tasks**, such as:\n",
    "  - **Mathematical calculations**\n",
    "  - **Logical reasoning**\n",
    "  - **Complex decision-making**\n",
    "- **LangChain Agents** enhance LLMs by interacting with:\n",
    "  - **Search engines**\n",
    "  - **Calculators**\n",
    "  - **APIs**\n",
    "  - **Databases**\n",
    "- **Agents** can run code, retrieve information, and **sequence actions dynamically**.\n",
    "\n",
    "- The following mechanisms use basic chains:\n",
    "- **LLMChain**: A simple chain that returns responses based on **user queries** and **retrieved context**.\n",
    "- **RouterChain**: A more complex chain that selects a **prompt template** based on **user input**.\n",
    "- **LangChain Agents**:\n",
    "  - Act as **reasoning engines** that **decide** which tools to use.\n",
    "  - Execute **actions**, such as **retrieving data from APIs** or **performing calculations**."
   ]
  },
  {
   "cell_type": "markdown",
   "metadata": {},
   "source": [
    "## **LangChain Agent Features**\n",
    "1. **Provides tools/toolkits** (sets of functions for different actions).\n",
    "2. Uses the **ReAct (Reasoning + Acting) framework** to select the appropriate tool.\n",
    "3. Repeats:\n",
    "   - **Decides an action** based on the query.\n",
    "   - **Runs the action**.\n",
    "   - **Observes the result**.\n",
    "   - **Continues until the stopping condition is met**.\n",
    "\n",
    "### **Built-in Tools**\n",
    "- **LLMMathChain**: Used for mathematical computations.\n",
    "- **Custom Tools**: Create **API calls** or **database lookups** for specific tasks."
   ]
  },
  {
   "cell_type": "markdown",
   "metadata": {},
   "source": [
    "This example demonstrates how an agent:\n",
    "- Uses the **ReAct framework**.\n",
    "- Calls the **LLMMathChain** tool for **math calculations**.\n",
    "- Passes the computed result to the **LLM** for final processing."
   ]
  },
  {
   "cell_type": "code",
   "execution_count": null,
   "metadata": {
    "vscode": {
     "languageId": "plaintext"
    }
   },
   "outputs": [],
   "source": [
    "from langchain.agents import load_tools\n",
    "from langchain.agents import initialize_agent, Tool\n",
    "from langchain.agents import AgentType\n",
    "from langchain import LLMMathChain\n",
    "from langchain_aws import ChatBedrock\n",
    "from langchain.agents import AgentExecutor, create_react_agent\n",
    "from langchain.prompts import PromptTemplate\n",
    "\n",
    "# Initialize Chat Model\n",
    "chat = ChatBedrock(model_id=\"anthropic.claude-3-sonnet-20240229-v1:0\", model_kwargs={\"temperature\": 0.1})\n",
    "\n",
    "# Define ReAct Prompt Template\n",
    "prompt_template = \"\"\"Answer the following questions as best you can.\n",
    "You have access to the following tools:\\n\\n{tools}\\n\\n\n",
    "Use the following format:\\n\\nQuestion: {input}\\n\n",
    "Thought: {agent_scratchpad}\n",
    "\"\"\"\n",
    "\n",
    "# Initialize LLM for agent and math chain\n",
    "react_agent_llm = ChatBedrock(model_id=\"anthropic.claude-3-sonnet-20240229-v1:0\")\n",
    "math_chain_llm = ChatBedrock(model_id=\"anthropic.claude-3-sonnet-20240229-v1:0\")\n",
    "\n",
    "# Load Tools\n",
    "tools = load_tools([], llm=react_agent_llm)\n",
    "\n",
    "# Initialize LLMMathChain\n",
    "llm_math_chain = LLMMathChain.from_llm(llm=math_chain_llm, verbose=True)\n",
    "\n",
    "# Define Math Prompt\n",
    "llm_math_chain.llm_chain.prompt.template = \"\"\"Human: Given a question with a math problem, provide only a single line mathematical expression that solves the problem in the following format. Don't solve the expression only create a parsable expression.\n",
    "```text\n",
    "{{single line mathematical expression that solves the problem}}\n",
    "```\n",
    "\n",
    "Assistant:\n",
    "Here is an example response with a single line mathematical expression for solving a math problem:\n",
    "```text\n",
    "37593**(1/5)\n",
    "```\n",
    "\n",
    "Human: {question}\n",
    "Assistant:\"\"\"\n",
    "\n",
    "tools.append(\n",
    "    Tool.from_function(\n",
    "         func=llm_math_chain.run,\n",
    "         name=\"Calculator\",\n",
    "         description=\"Useful for when you need to answer questions about math.\",\n",
    "    )\n",
    ")\n",
    "\n",
    "react_agent = create_react_agent(react_agent_llm,\n",
    "    tools,\n",
    "    PromptTemplate.from_template(prompt_template)\n",
    "         # max_iteration=2,\n",
    "         # return_intermediate_steps=True,\n",
    "         # handle_parsing_errors=True,\n",
    "    )\n",
    "\n",
    "agent_executor = AgentExecutor(\n",
    "agent=react_agent,\n",
    "tools=tools,\n",
    "verbose=True,\n",
    "handle_parsing_errors=True,\n",
    "max_iterations = 10 # useful when agent is stuck in a loop\n",
    ")\n",
    "\n",
    "agent_executor.invoke({\"input\": \"What is the distance between San Francisco and Los Angeles? If I travel from San Francisco to Los Angeles with the speed of 40MPH how long will it take to reach?\"})"
   ]
  },
  {
   "cell_type": "markdown",
   "metadata": {},
   "source": [
    "## **Key Takeaways**\n",
    "- **LLMs alone cannot handle** **mathematics, logic, and API calls** effectively.\n",
    "- **LangChain Agents** enhance LLMs by integrating **external tools and APIs**.\n",
    "- **ReAct (Reasoning + Acting) framework** helps agents choose **relevant tools** dynamically.\n",
    "- **LLMMathChain** enables **accurate mathematical computations**.\n",
    "- **LangGraph** is the **next-generation runtime** for LangChain agents."
   ]
  }
 ],
 "metadata": {
  "language_info": {
   "name": "python"
  }
 },
 "nbformat": 4,
 "nbformat_minor": 2
}

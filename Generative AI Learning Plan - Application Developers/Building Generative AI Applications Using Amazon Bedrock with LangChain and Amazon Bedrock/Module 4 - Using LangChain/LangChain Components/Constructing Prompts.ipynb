{
 "cells": [
  {
   "cell_type": "markdown",
   "metadata": {},
   "source": [
    "## **Constructing Prompts**"
   ]
  },
  {
   "cell_type": "markdown",
   "metadata": {},
   "source": [
    "- A **prompt** is a **text instruction** provided to an **LLM** to generate a response.\n",
    "- In **complex generative AI applications**, prompts must be **structured effectively**.\n",
    "- Prompts can include:\n",
    "  - **Instructions** (specific tasks for the LLM).\n",
    "  - **Context** (background information to guide responses).\n",
    "  - **Examples** (demonstrations of expected outputs).\n",
    "  - **Dynamic input variables** (placeholders for user-defined values)."
   ]
  },
  {
   "cell_type": "markdown",
   "metadata": {},
   "source": [
    "## **Prompt Templates in LangChain**\n",
    "- **LangChain provides predefined prompt templates** that:\n",
    "  - Accept **user-defined parameters**.\n",
    "  - Dynamically generate prompts.\n",
    "  - Improve **efficiency and reusability** in **prompt engineering**."
   ]
  },
  {
   "cell_type": "markdown",
   "metadata": {},
   "source": [
    "## **Example:**"
   ]
  },
  {
   "cell_type": "code",
   "execution_count": null,
   "metadata": {
    "vscode": {
     "languageId": "plaintext"
    }
   },
   "outputs": [],
   "source": [
    "from langchain import PromptTemplate\n",
    "\n",
    "# Create a prompt template with multiple input variables\n",
    "multi_var_prompt = PromptTemplate(\n",
    "     input_variables=[\"customerName\", \"feedbackFromCustomer\"],\n",
    "     template=\"\"\"\n",
    "     Human: Create an email to {customerName} in response to the following customer service feedback received:\n",
    "     <customer_feedback> \n",
    "          {feedbackFromCustomer}\n",
    "     </customer_feedback>\n",
    "     Assistant:\"\"\"\n",
    ")\n",
    "\n",
    "# Pass in values to the input variables\n",
    "prompt = multi_var_prompt.format(\n",
    "    customerName=\"John Doe\",\n",
    "    feedbackFromCustomer=\"\"\"Hello AnyCompany, \n",
    "     I am very pleased with the recent experience I had when I called your customer support.\n",
    "     I got an immediate call back, and the representative was very knowledgeable in fixing the problem. \n",
    "     We are very happy with the response provided and will consider recommending it to other businesses.\n",
    "     \"\"\"\n",
    ")\n",
    "\n",
    "# Print the formatted prompt\n",
    "print(prompt)"
   ]
  }
 ],
 "metadata": {
  "language_info": {
   "name": "python"
  }
 },
 "nbformat": 4,
 "nbformat_minor": 2
}

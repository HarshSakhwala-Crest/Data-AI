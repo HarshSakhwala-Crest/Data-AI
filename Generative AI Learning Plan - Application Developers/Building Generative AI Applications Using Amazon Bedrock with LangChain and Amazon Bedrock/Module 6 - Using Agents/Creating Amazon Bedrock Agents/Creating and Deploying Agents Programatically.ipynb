{
 "cells": [
  {
   "cell_type": "markdown",
   "metadata": {},
   "source": [
    "# Creating and Deploying Agents Programmatically\n",
    "Amazon Bedrock provides an SDK for developers to **create, configure, and deploy AI agents** programmatically. Agents act as intermediaries between **users and foundation models (FMs)** to handle tasks and process requests.\n",
    "\n",
    "This guide demonstrates how to create an **HR agent** using the **boto3 Python SDK**."
   ]
  },
  {
   "cell_type": "markdown",
   "metadata": {},
   "source": [
    "## Step 1: Create an IAM Policy for the Agent\n",
    "Amazon Bedrock **Agents** need an **IAM policy** that grants the ability to invoke the foundation model."
   ]
  },
  {
   "cell_type": "code",
   "execution_count": null,
   "metadata": {},
   "outputs": [],
   "source": [
    "import boto3\n",
    "import json\n",
    "\n",
    "iam_client = boto3.client(\"iam\")\n",
    "\n",
    "bedrock_agent_policy_statement = {\n",
    "    \"Version\": \"2012-10-17\",\n",
    "    \"Statement\": [\n",
    "        {\n",
    "            \"Sid\": \"AmazonBedrockAgentPolicy\",\n",
    "            \"Effect\": \"Allow\",\n",
    "            \"Action\": \"bedrock:InvokeModel\",\n",
    "            \"Resource\": [\n",
    "                \"arn:aws:bedrock:us-west-2::foundation-model/anthropic.claude-3-sonnet-20240229-v1:0\"\n",
    "            ]\n",
    "        }\n",
    "    ]\n",
    "}\n",
    "\n",
    "bedrock_policy_json = json.dumps(bedrock_agent_policy_statement)\n",
    "\n",
    "agent_bedrock_policy = iam_client.create_policy(\n",
    "    PolicyName=\"hr-agent-bedrock-policy\",\n",
    "    PolicyDocument=bedrock_policy_json\n",
    ")"
   ]
  },
  {
   "cell_type": "markdown",
   "metadata": {},
   "source": [
    "- Additional optional agent policies:\n",
    "  - API Schema definitions policy - agent uses API Schema definitions for the action group\n",
    "  - Amazon Bedrock Knowledge Base policy - agent connects to a Amazon Bedrock Knowledge Base, you need to create an IAM Policy\n",
    "  - Amazon Bedrock Guardrail policy - agent connects to a Amazon Bedrock Guardrail, you need to create an IAM Policy"
   ]
  },
  {
   "cell_type": "markdown",
   "metadata": {},
   "source": [
    "## Step 2: Create an IAM Role for the Agent\n",
    "An IAM role must be created with Amazon Bedrock as the principal."
   ]
  },
  {
   "cell_type": "code",
   "execution_count": null,
   "metadata": {},
   "outputs": [],
   "source": [
    "# Create IAM Role for the agent and attach IAM policies\n",
    "assume_role_policy_document = {\n",
    "    \"Version\": \"2012-10-17\",\n",
    "    \"Statement\": [\n",
    "        {\n",
    "            \"Effect\": \"Allow\",\n",
    "            \"Principal\": {\n",
    "            \"Service\": \"bedrock.amazonaws.com\"\n",
    "            },\n",
    "            \"Action\": \"sts:AssumeRole\"\n",
    "        }\n",
    "    ]\n",
    "}\n",
    "\n",
    "agent_role_name = \"AmazonBedrockExecutionRoleForAgents_hr-agent\"\n",
    "\n",
    "assume_role_policy_document_json = json.dumps(assume_role_policy_document)\n",
    "\n",
    "agent_role = iam_client.create_role(\n",
    "    RoleName=agent_role_name,\n",
    "    AssumeRolePolicyDocument=assume_role_policy_document_json\n",
    ")"
   ]
  },
  {
   "cell_type": "markdown",
   "metadata": {},
   "source": [
    "## Step 3: Attaching the created policies to the role\n",
    "Attach the created policies to the IAM role."
   ]
  },
  {
   "cell_type": "code",
   "execution_count": null,
   "metadata": {},
   "outputs": [],
   "source": [
    "iam_client.attach_role_policy(\n",
    "    RoleName=agent_role_name,\n",
    "    PolicyArn=agent_bedrock_policy['Policy']['Arn']\n",
    ")\n",
    "\n",
    "# Optionally, attach additional policies (S3, Knowledge Bases, Guardrails)"
   ]
  },
  {
   "cell_type": "markdown",
   "metadata": {},
   "source": [
    "## Step 4: Creating the Amazon Bedrock agent\n",
    "Now that the IAM role is created, use the boto3 SDK to create the HR agent."
   ]
  },
  {
   "cell_type": "code",
   "execution_count": null,
   "metadata": {},
   "outputs": [],
   "source": [
    "bedrock_agent_client = boto3.client('bedrock-agent')\n",
    "\n",
    "response = bedrock_agent_client.create_agent(\n",
    "    agentName=\"Human-Resource-Agent\",\n",
    "    description=\"This agent helps employees understand company policies and request vacation time.\",\n",
    "    foundationModel=\"anthropic.claude-3-sonnet-20240229-v1:0\",\n",
    "    agentResourceRoleArn=agent_role[\"Role\"][\"Arn\"],\n",
    "    idleSessionTTLInSeconds=600,\n",
    "    instruction=\"\"\"You are a friendly agent that answers questions about the \n",
    "    company's HR policies and helps employees request vacation time off.\n",
    "    You ALWAYS reply politely and concisely, using ONLY the available information \n",
    "    in the company_policies KNOWLEDGE_BASE or the vacationHandler ACTION_GROUP.\n",
    "    Introduce yourself as the 'HR AI Assistant' and confirm the employee's ID \n",
    "    before providing any details.\"\"\"\n",
    ")"
   ]
  },
  {
   "cell_type": "markdown",
   "metadata": {},
   "source": [
    "## Step 5: Preparing the agent\n",
    "After creating the agent, use prepare_agent to enable testing."
   ]
  },
  {
   "cell_type": "code",
   "execution_count": null,
   "metadata": {},
   "outputs": [],
   "source": [
    "agent_id = response['agent']['agentId']\n",
    "\n",
    "response = bedrock_agent_client.prepare_agent(\n",
    "    agentId=agent_id\n",
    ")"
   ]
  },
  {
   "cell_type": "markdown",
   "metadata": {},
   "source": [
    "## **Key Takeaways**\n",
    "- This guide demonstrated how to:\n",
    "  - Create an IAM Policy for the agent.\n",
    "  - Set up an IAM Role for execution.\n",
    "  - Attach necessary policies to the role.\n",
    "  - Create and configure an agent using boto3.\n",
    "  - Prepare the agent for invocation and testing."
   ]
  }
 ],
 "metadata": {
  "kernelspec": {
   "display_name": "Python 3",
   "language": "python",
   "name": "python3"
  },
  "language_info": {
   "name": "python",
   "version": "3.13.1"
  }
 },
 "nbformat": 4,
 "nbformat_minor": 2
}

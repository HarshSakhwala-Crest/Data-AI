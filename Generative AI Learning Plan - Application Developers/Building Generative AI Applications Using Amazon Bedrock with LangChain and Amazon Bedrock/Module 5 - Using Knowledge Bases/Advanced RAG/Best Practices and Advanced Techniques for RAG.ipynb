{
 "cells": [
  {
   "cell_type": "markdown",
   "metadata": {},
   "source": [
    "# Best Practices and Advanced Techniques for RAG\n",
    "- **Retrieval-Augmented Generation (RAG)** enhances **foundation models (FMs)** by integrating **external knowledge retrieval**.\n",
    "- To build **effective RAG applications**, consider:\n",
    "  - **Defining the domain & selecting quality data**\n",
    "  - **Optimizing chunking strategies**\n",
    "  - **Applying metadata filters**\n",
    "  - **Refining retrieval and generation with prompt engineering**\n",
    "  - **Using advanced techniques like hybrid search, query reformulation, and caching**"
   ]
  },
  {
   "cell_type": "markdown",
   "metadata": {},
   "source": [
    "## **Tips for building successful RAG applications**\n",
    "### **Defining the domain and the associated data**\n",
    "- Clearly define the **domain** to determine **data requirements**.\n",
    "- Example use cases:\n",
    "  - **Customer support assistant** → product manuals, FAQs.\n",
    "  - **Medical Q&A system** → research papers, medical databases.\n",
    "- **High-quality, curated data sources** ensure **reliable retrieval**."
   ]
  },
  {
   "cell_type": "markdown",
   "metadata": {},
   "source": [
    "### **Chunking strategy**\n",
    "- **Goal:** Transform data for efficient retrieval and FM processing.\n",
    "- **Key strategies:**\n",
    "  - **Fixed Chunking** – Divides text into equal-sized segments.\n",
    "  - **Semantic Chunking** – Splits text based on topic coherence.\n",
    "  - **Hierarchical Chunking** – Organizes text into structured layers.\n",
    "- **Optimizing chunk size** is crucial:\n",
    "  - **Too large** → Irrelevant content included.\n",
    "  - **Too small** → Lacks necessary context.\n",
    "- **Amazon Bedrock Knowledge Bases** support all three methods."
   ]
  },
  {
   "cell_type": "markdown",
   "metadata": {},
   "source": [
    "### **Adding Metadata**\n",
    "- **Metadata filters** refine search results by retrieving **only relevant chunks**.\n",
    "- Helps **narrow search scope** for **accurate, precise** retrieval."
   ]
  },
  {
   "cell_type": "markdown",
   "metadata": {},
   "source": [
    "### **Prompt Engineering**\n",
    "- **Customize prompts** to optimize the **generation** stage.\n",
    "- Amazon Bedrock enables **prompt template standardization** for **consistent output**.\n",
    "- Select **the right FM** for your use case."
   ]
  },
  {
   "cell_type": "markdown",
   "metadata": {},
   "source": [
    "### **Evaluation and Refinement**\n",
    "- **Continuous evaluation** is essential for **optimizing retrieval and generation**.\n",
    "- **Use metrics like RAGAS** (Faithfulness, Context Precision, Context Recall).\n",
    "- **Amazon Bedrock supports integration** with frameworks like **RAGAS**."
   ]
  },
  {
   "cell_type": "markdown",
   "metadata": {},
   "source": [
    "## **Advanced RAG Techniques**\n",
    "### **Hybrid Search**\n",
    "- **Combines multiple retrieval techniques** (keyword matching + semantic search).\n",
    "- **Improves coverage and relevance** for different types of queries.\n",
    "- Amazon Bedrock **automatically selects the best search method**."
   ]
  },
  {
   "cell_type": "markdown",
   "metadata": {},
   "source": [
    "### **Query reformulation or decomposition**\n",
    "- **Breaks down complex user queries** into **multiple subqueries**.\n",
    "- **Prevents semantic dilution** by retrieving **more relevant chunks**.\n",
    "\n",
    "📌 **Example Query**:  \n",
    "*\"Where is the AnyCompany waterfront building located, and how does the whistleblower scandal impact its image?\"*\n",
    "\n",
    "**Decomposed into:**\n",
    "1. Where is the **AnyCompany waterfront building** located?\n",
    "2. What is the **whistleblower scandal** involving AnyCompany?\n",
    "3. How did the **whistleblower scandal** impact AnyCompany’s **reputation**?\n",
    "\n",
    "🔹 *This approach retrieves **focused, accurate** document chunks.*"
   ]
  },
  {
   "cell_type": "markdown",
   "metadata": {},
   "source": [
    "### **Semantic Cache**\n",
    "- storing the retrieved information and corresponding FM outputs associated with past queries.\n",
    "- **Benefits:**\n",
    "  - **Reduces redundant retrieval** operations.\n",
    "  - **Improves response efficiency** for recurring queries.\n",
    "- Ideal for **applications with frequent query patterns**."
   ]
  },
  {
   "cell_type": "markdown",
   "metadata": {},
   "source": [
    "## **Safeguarding your RAG application**\n",
    "- **RAG models can generate incorrect, biased, or harmful content** if not properly managed.\n",
    "- **Amazon Bedrock Guardrails** provide **built-in safeguards**:\n",
    "  - **Hallucination filtering** (blocks 75% of false outputs).\n",
    "  - **Topic blocking** (prevents responses on unwanted subjects).\n",
    "  - **Sensitive information redaction**.\n",
    "  - **Configurable filters** for **hate speech, violence, misconduct, etc.**.\n",
    "  - **Prevention against prompt injections and jailbreak attacks**."
   ]
  },
  {
   "cell_type": "markdown",
   "metadata": {},
   "source": [
    "## **Key Takeaways**\n",
    "✅ **Define a clear domain** and use **high-quality** data sources.  \n",
    "✅ **Optimize chunking** for better retrieval efficiency.  \n",
    "✅ **Use metadata filters** to improve search accuracy.  \n",
    "✅ **Continuously evaluate** RAG performance using **RAGAS metrics**.  \n",
    "✅ **Leverage hybrid search** to improve retrieval results.  \n",
    "✅ **Decompose complex queries** into subqueries for better accuracy.  \n",
    "✅ **Use semantic caching** to enhance response speed.  \n",
    "✅ **Implement guardrails** to **ensure responsible AI development**.  "
   ]
  }
 ],
 "metadata": {
  "language_info": {
   "name": "python"
  }
 },
 "nbformat": 4,
 "nbformat_minor": 2
}

{
 "cells": [
  {
   "cell_type": "markdown",
   "metadata": {},
   "source": [
    "# Build generative AI applications on Amazon Bedrock with the AWS SDK for Python (Boto3)"
   ]
  },
  {
   "cell_type": "code",
   "execution_count": 1,
   "metadata": {},
   "outputs": [
    {
     "name": "stdout",
     "output_type": "stream",
     "text": [
      "Defaulting to user installation because normal site-packages is not writeable\n",
      "Requirement already satisfied: boto3 in c:\\users\\harshsakhwala\\appdata\\local\\packages\\pythonsoftwarefoundation.python.3.13_qbz5n2kfra8p0\\localcache\\local-packages\\python313\\site-packages (1.36.17)\n",
      "Requirement already satisfied: botocore<1.37.0,>=1.36.17 in c:\\users\\harshsakhwala\\appdata\\local\\packages\\pythonsoftwarefoundation.python.3.13_qbz5n2kfra8p0\\localcache\\local-packages\\python313\\site-packages (from boto3) (1.36.17)\n",
      "Requirement already satisfied: jmespath<2.0.0,>=0.7.1 in c:\\users\\harshsakhwala\\appdata\\local\\packages\\pythonsoftwarefoundation.python.3.13_qbz5n2kfra8p0\\localcache\\local-packages\\python313\\site-packages (from boto3) (1.0.1)\n",
      "Requirement already satisfied: s3transfer<0.12.0,>=0.11.0 in c:\\users\\harshsakhwala\\appdata\\local\\packages\\pythonsoftwarefoundation.python.3.13_qbz5n2kfra8p0\\localcache\\local-packages\\python313\\site-packages (from boto3) (0.11.2)\n",
      "Requirement already satisfied: python-dateutil<3.0.0,>=2.1 in c:\\users\\harshsakhwala\\appdata\\local\\packages\\pythonsoftwarefoundation.python.3.13_qbz5n2kfra8p0\\localcache\\local-packages\\python313\\site-packages (from botocore<1.37.0,>=1.36.17->boto3) (2.9.0.post0)\n",
      "Requirement already satisfied: urllib3!=2.2.0,<3,>=1.25.4 in c:\\users\\harshsakhwala\\appdata\\local\\packages\\pythonsoftwarefoundation.python.3.13_qbz5n2kfra8p0\\localcache\\local-packages\\python313\\site-packages (from botocore<1.37.0,>=1.36.17->boto3) (2.3.0)\n",
      "Requirement already satisfied: six>=1.5 in c:\\users\\harshsakhwala\\appdata\\local\\packages\\pythonsoftwarefoundation.python.3.13_qbz5n2kfra8p0\\localcache\\local-packages\\python313\\site-packages (from python-dateutil<3.0.0,>=2.1->botocore<1.37.0,>=1.36.17->boto3) (1.17.0)\n"
     ]
    },
    {
     "name": "stderr",
     "output_type": "stream",
     "text": [
      "\n",
      "[notice] A new release of pip is available: 25.0 -> 25.0.1\n",
      "[notice] To update, run: C:\\Users\\HarshSakhwala\\AppData\\Local\\Microsoft\\WindowsApps\\PythonSoftwareFoundation.Python.3.13_qbz5n2kfra8p0\\python.exe -m pip install --upgrade pip\n"
     ]
    }
   ],
   "source": [
    "! pip install boto3"
   ]
  },
  {
   "cell_type": "code",
   "execution_count": null,
   "metadata": {},
   "outputs": [
    {
     "name": "stdout",
     "output_type": "stream",
     "text": [
      "Response: As a student, you can still perform various AWS console tasks without the $300 credit. Here are some options you can consider:\n",
      "\n",
      "1. **AWS Free Tier**: AWS offers a free tier that allows you to use certain services for free within specified limits. This includes services like Amazon EC2 (t2.micro instance), Amazon S3, Amazon Lambda, Amazon DynamoDB, and more. You can explore and practice with these services without incurring any charges.\n",
      "\n",
      "2. **AWS Educate**: AWS Educate is a program designed specifically for students and educators. It provides free AWS credits, training resources, and collaboration tools. You can apply for AWS Educate through your institution or as an individual student. If approved, you'll receive AWS credits that you can use to gain hands-on experience with various AWS services.\n",
      "\n",
      "3. **AWS Cloud9**: AWS Cloud9 is a cloud-based integrated development environment (IDE) that you can use for writing, running, and debugging code. It comes with a free tier that allows you to create and use an AWS Cloud9 environment without any charges.\n",
      "\n",
      "4. **AWS CLI and AWS SDKs**: While the AWS Management Console provides a web-based interface, you can also perform many tasks using the AWS Command Line Interface (CLI) or AWS SDKs. These tools are free to use, and you can practice with them without incurring any charges, as long as you stay within the free tier limits.\n",
      "\n",
      "5. **AWS Documentation and Tutorials**: AWS provides extensive documentation, tutorials, and hands-on labs that you can follow without needing any credits. These resources can help you learn about various AWS services and their features without actually provisioning resources.\n",
      "\n",
      "6. **AWS Certification Preparation**: If you're interested in pursuing AWS certifications, there are free resources available, such as online training courses, sample questions, and practice exams, that can help you prepare without requiring any AWS credits.\n",
      "\n",
      "7. **AWS Events and Webinars**: AWS frequently organizes free online events, webinars, and workshops where you can learn about various AWS services and best practices from AWS experts.\n",
      "\n",
      "While the $300 credit can be helpful for exploring more advanced use cases or running resource-intensive workloads, you can still gain valuable experience and knowledge by leveraging the free tier, AWS Educate, and other free resources provided by AWS.\n"
     ]
    }
   ],
   "source": [
    "import boto3\n",
    "import json\n",
    "\n",
    "# Set up the Amazon Bedrock client\n",
    "bedrock_client = boto3.client(\n",
    "    service_name=\"bedrock-runtime\",\n",
    "    region_name=\"us-east-1\"\n",
    ")\n",
    "\n",
    "# Define the model ID\n",
    "model_id = \"anthropic.claude-3-sonnet-20240229-v1:0\"\n",
    "\n",
    "# Prepare the input prompt\n",
    "prompt = \"how can i perform all aws console task without 300$ credit as i am a student, as aws rejected my proposal\"\n",
    "\n",
    "# Create the request payload\n",
    "payload = {\n",
    "    \"anthropic_version\": \"bedrock-2023-05-31\",\n",
    "    \"max_tokens\": 2000,\n",
    "    \"temperature\": 0.9,\n",
    "    \"top_k\": 250,\n",
    "    \"top_p\": 1,\n",
    "    \"messages\": [\n",
    "        {\n",
    "            \"role\": \"user\",\n",
    "            \"content\": [\n",
    "                {\n",
    "                    \"type\": \"text\",\n",
    "                    \"text\": prompt\n",
    "                }\n",
    "            ]\n",
    "        }\n",
    "    ]\n",
    "}\n",
    "\n",
    "# Invoke the Amazon Bedrock model\n",
    "response = bedrock_client.invoke_model(\n",
    "    modelId=model_id,\n",
    "    body=json.dumps(payload)\n",
    ")\n",
    "\n",
    "# Process the response\n",
    "result = json.loads(response[\"body\"].read())\n",
    "generated_text = \"\".join([output[\"text\"] for output in result[\"content\"]])\n",
    "print(f\"Response: {generated_text}\")"
   ]
  }
 ],
 "metadata": {
  "kernelspec": {
   "display_name": "Python 3",
   "language": "python",
   "name": "python3"
  },
  "language_info": {
   "codemirror_mode": {
    "name": "ipython",
    "version": 3
   },
   "file_extension": ".py",
   "mimetype": "text/x-python",
   "name": "python",
   "nbconvert_exporter": "python",
   "pygments_lexer": "ipython3",
   "version": "3.13.1"
  }
 },
 "nbformat": 4,
 "nbformat_minor": 2
}
